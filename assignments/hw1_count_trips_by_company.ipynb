{
 "cells": [
  {
   "cell_type": "code",
   "execution_count": 1,
   "id": "a8754108-269d-47df-ad08-e00a28108619",
   "metadata": {},
   "outputs": [],
   "source": [
    "#load pyspark, pandas\n",
    "from pyspark import SparkConf, SparkContext\n",
    "import pandas as pd\n",
    "import matplotlib.pyplot as plt"
   ]
  },
  {
   "cell_type": "code",
   "execution_count": 2,
   "id": "8a5b194a-1146-4359-8e42-43615d8185e9",
   "metadata": {},
   "outputs": [],
   "source": [
    "# Configure Spark\n",
    "conf = SparkConf().setMaster(\"local\").setAppName(\"uber-date-trips\")\n",
    "sc = SparkContext(conf=conf)"
   ]
  },
  {
   "cell_type": "code",
   "execution_count": 3,
   "id": "3fc30063-9c6e-474c-81cf-4e61cab098a2",
   "metadata": {},
   "outputs": [],
   "source": [
    "# Dataset sample\n",
    "filename = \"fhvhv_tripdata_2020-03_short.csv\""
   ]
  },
  {
   "cell_type": "code",
   "execution_count": 4,
   "id": "e3605e6e-2282-4d45-b53e-4cd70996a15a",
   "metadata": {},
   "outputs": [],
   "source": [
    "# Data parsing\n",
    "lines = sc.textFile(\"./data/\" + filename)   # .csv -> RDD object\n",
    "header = lines.first()\n",
    "filtered_lines = lines.filter(lambda row:row != header) # all lines excepting the header"
   ]
  },
  {
   "cell_type": "code",
   "execution_count": 5,
   "id": "e1beb048-516a-4b4d-9ce8-a25e7adaab33",
   "metadata": {},
   "outputs": [],
   "source": [
    "\"\"\"\n",
    "    Run the Spark job\n",
    "    - map(): apply the transformation on every element of RDD -> new RDD\n",
    "    - countByValue(): action that returns the count of each unique value\n",
    "    - x.split(\", \")[2]: extract the value of pickup_datetime from a row\n",
    "    e.g., 2020-03-01 00:03:40\n",
    "    - .split(\" \")[0]: extract the date from the pickup_datetime\n",
    "    e.g., 2020-03-01\n",
    "\"\"\"\n",
    "\n",
    "dates = filtered_lines.map(lambda x: x.split(\",\")[0])\n",
    "result = dates.countByValue()"
   ]
  },
  {
   "cell_type": "code",
   "execution_count": 6,
   "id": "7d4254fa-8fc5-4fe0-a5b8-15cc2b2e8230",
   "metadata": {},
   "outputs": [],
   "source": [
    "# Save results as a csv file\n",
    "pd.Series(result, name=\"company\").to_csv(\"./data/count_trips_by_company.csv\")"
   ]
  },
  {
   "cell_type": "code",
   "execution_count": 7,
   "id": "1f3dfa8a-4596-4f12-9787-ee8c687ed3e9",
   "metadata": {},
   "outputs": [
    {
     "data": {
      "image/png": "[encoded data removed]",
      "text/plain": [
       "<Figure size 432x288 with 1 Axes>"
      ]
     },
     "metadata": {
      "needs_background": "light"
     },
     "output_type": "display_data"
    }
   ],
   "source": [
    "# Visualize the results\n",
    "\n",
    "\n",
    "trips = pd.read_csv(\"./data/count_trips_by_company.csv\")\n",
    "trips.plot()\n",
    "plt.show()\n"
   ]
  },
  {
   "cell_type": "code",
   "execution_count": null,
   "id": "933b935c-f85b-4a4e-b2ce-bccf0429117d",
   "metadata": {},
   "outputs": [],
   "source": []
  }
 ],
 "metadata": {
  "kernelspec": {
   "display_name": "Python 3 (ipykernel)",
   "language": "python",
   "name": "python3"
  },
  "language_info": {
   "codemirror_mode": {
    "name": "ipython",
    "version": 3
   },
   "file_extension": ".py",
   "mimetype": "text/x-python",
   "name": "python",
   "nbconvert_exporter": "python",
   "pygments_lexer": "ipython3",
   "version": "3.9.7"
  }
 },
 "nbformat": 4,
 "nbformat_minor": 5
}
