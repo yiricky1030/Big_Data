{
 "cells": [
  {
   "cell_type": "code",
   "execution_count": 11,
   "id": "2ca09df5-ded4-492b-a45e-ed737ae2d900",
   "metadata": {},
   "outputs": [],
   "source": [
    "from pyspark.sql import SparkSession, Row\n",
    "spark = SparkSession.builder.master('local').appName('UDF').getOrCreate()"
   ]
  },
  {
   "cell_type": "code",
   "execution_count": 12,
   "id": "d22dd6b7-2eea-431f-b13e-38f2aac0803b",
   "metadata": {},
   "outputs": [],
   "source": [
    "human_ages=[\n",
    "    ('안현',39),('이주헌',24),('김혜자',83),\n",
    "    ('한효주',36),('유재석',52),\n",
    "    ('손석구',41),('임윤아',35),('김보석',24),('정진욱',23)\n",
    "]"
   ]
  },
  {
   "cell_type": "code",
   "execution_count": 13,
   "id": "3c635418-5894-479e-a950-bba35bd65462",
   "metadata": {},
   "outputs": [],
   "source": [
    "schema=['Name','age']"
   ]
  },
  {
   "cell_type": "code",
   "execution_count": 14,
   "id": "fd12d272-9630-4fc0-b6f7-9c4de0b09976",
   "metadata": {},
   "outputs": [],
   "source": [
    "df=spark.createDataFrame(human_ages,schema)\n",
    "df.createOrReplaceTempView('humans')"
   ]
  },
  {
   "cell_type": "code",
   "execution_count": 15,
   "id": "d415cc6c-29a0-447e-ba6d-0fd693227e46",
   "metadata": {},
   "outputs": [
    {
     "name": "stdout",
     "output_type": "stream",
     "text": [
      "+------+---+\n",
      "|  Name|age|\n",
      "+------+---+\n",
      "|  안현| 39|\n",
      "|이주헌| 24|\n",
      "|김혜자| 83|\n",
      "|한효주| 36|\n",
      "|유재석| 52|\n",
      "|손석구| 41|\n",
      "|임윤아| 35|\n",
      "|김보석| 24|\n",
      "|정진욱| 23|\n",
      "+------+---+\n",
      "\n"
     ]
    }
   ],
   "source": [
    "df.show()"
   ]
  },
  {
   "cell_type": "code",
   "execution_count": 16,
   "id": "23079dc5-4878-4dd2-b6f3-1835a8b03066",
   "metadata": {},
   "outputs": [],
   "source": [
    "from pyspark.sql.functions import udf"
   ]
  },
  {
   "cell_type": "code",
   "execution_count": 17,
   "id": "3b1a8475-ada2-47da-b11c-7a7dcb75c751",
   "metadata": {},
   "outputs": [],
   "source": [
    "def age_category(age):\n",
    "    if age<35:\n",
    "        group= 'young'\n",
    "    elif age>=35 and age<60:\n",
    "        group= 'adult'\n",
    "    else:\n",
    "        group= 'senior'\n",
    "    return group"
   ]
  },
  {
   "cell_type": "code",
   "execution_count": 18,
   "id": "6958871e-9675-4868-827c-e6e67e8625f0",
   "metadata": {},
   "outputs": [
    {
     "data": {
      "text/plain": [
       "<function __main__.age_category(age)>"
      ]
     },
     "execution_count": 18,
     "metadata": {},
     "output_type": "execute_result"
    }
   ],
   "source": [
    "spark.udf.register('age_category',age_category)"
   ]
  },
  {
   "cell_type": "code",
   "execution_count": 19,
   "id": "e9c34f89-f051-4f2b-932f-6048f32576b1",
   "metadata": {},
   "outputs": [
    {
     "name": "stdout",
     "output_type": "stream",
     "text": [
      "+------+-----------------+\n",
      "|  Name|age_category(age)|\n",
      "+------+-----------------+\n",
      "|  안현|            adult|\n",
      "|이주헌|            young|\n",
      "|김혜자|           senior|\n",
      "|한효주|            adult|\n",
      "|유재석|            adult|\n",
      "|손석구|            adult|\n",
      "|임윤아|            adult|\n",
      "|김보석|            young|\n",
      "|정진욱|            young|\n",
      "+------+-----------------+\n",
      "\n"
     ]
    }
   ],
   "source": [
    "spark.sql(\n",
    "    \"SELECT Name,\\\n",
    "    age_category(age)\\\n",
    "    FROM humans\").show()"
   ]
  },
  {
   "cell_type": "code",
   "execution_count": null,
   "id": "72a399a1-81c0-4e80-a8e6-c37d184a6805",
   "metadata": {},
   "outputs": [],
   "source": []
  }
 ],
 "metadata": {
  "kernelspec": {
   "display_name": "Python 3 (ipykernel)",
   "language": "python",
   "name": "python3"
  },
  "language_info": {
   "codemirror_mode": {
    "name": "ipython",
    "version": 3
   },
   "file_extension": ".py",
   "mimetype": "text/x-python",
   "name": "python",
   "nbconvert_exporter": "python",
   "pygments_lexer": "ipython3",
   "version": "3.9.7"
  }
 },
 "nbformat": 4,
 "nbformat_minor": 5
}
